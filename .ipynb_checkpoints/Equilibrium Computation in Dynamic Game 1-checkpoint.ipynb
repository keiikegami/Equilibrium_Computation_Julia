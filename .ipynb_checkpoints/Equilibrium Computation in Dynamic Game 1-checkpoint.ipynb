{
 "cells": [
  {
   "cell_type": "markdown",
   "metadata": {},
   "source": [
    "# Equilibrium Computation in Dynamic Game 1\n",
    "\n",
    "Many methods have been suggested for this problem, and I focus on the most popular algorithm of them.\n",
    "\n",
    "Note that we only consider the computation methods for dynamic game in discrete time model.\n",
    "\n",
    "Pakes and McGuire (1994) algorithm, which we call PM94, is the algortihm for exact computing equilibrium in the dynamic oligopoly model, which is developed in Ericson and Pakes (1995), which we call EP95, and many researchers use this in both empirical and theoretical works.\n",
    "\n",
    "But PM94 lacks consideration for multiple equilibria, which is inevitable in most of dynamic game models, and it is  computationally burdensome when the state space of the model has a lot of atates. Furthermore the convergence of this algorithm is not guaranteed. \n",
    "\n",
    "Then more sophisticated methos have been developed in order to these problems, and we introduce these in the other courses.\n",
    "\n",
    "In the following, first we descrive the dynamic oliigopoly model of EP95 in order to clarify the problem the alogorithm solve. And then we explain the method with the Julia code."
   ]
  },
  {
   "cell_type": "markdown",
   "metadata": {},
   "source": [
    "## EP95's model"
   ]
  },
  {
   "cell_type": "markdown",
   "metadata": {},
   "source": [
    "In this section I explain the model in consideretion. \n",
    "\n",
    "EP95 modeled the dynamic oligopoly, in which there are incumbent firms and potential entrant firms for a market. In the begging of each period the incumbent firms decide whetherto exit or not by comparing the random scrap value with the continuation value of its own, and the potential entrant firms choose if they entry the market by considering the random setup costs and the continuation value. After their decisions the incumbents compete in the static market of differentiated products. And then they carry out investment for the sake of improving the future state. In the last their decisions about entry/exit are implemented before the next period.\n",
    "\n",
    "Note that the model we descrive here is a little different from the original one because these offer the condition for equilibrium existence and decrease the computational burden of the algorithms. See Doraszelski and Satterthwaite (2010) and Doraszelski and Pakes (2007) about this point.\n",
    "\n",
    "In the following we set up the notations of the model for each part.\n",
    "\n",
    "### Incumbent firms\n",
    "\n",
    "Denote each incumbent firm by $i$. And the number of incumbents is set to $n$.\n",
    "- investment : $x_i$\n",
    "- scrap value : $\\phi_i \\sim \\text{i.i.d.}\\ F_{\\phi}$ where $F_{\\phi}$ is the distribution function. \n",
    "- remain probability : $r_i$\n",
    "\n",
    "We assume that the scrap value is private information, then the decisions about exit of the other firms are stochastic from the perspective of each firm. Thus we can set the probability of remaining of each firm. This is true for the setup costs of the potential entrants.\n",
    "\n",
    "### Potential entrants\n",
    "\n",
    "Denote each potential entrant by $i$.\n",
    "- number of entrants : $\\epsilon$\n",
    "- initial investment : $x_i^e$\n",
    "- setup cost : $\\psi_i \\sim \\text{i.i.d.}\\ F_{\\psi}$ where $F_{\\psi}$ is the distribution function. \n",
    "- entry probability : $r_i^e$\n",
    "\n",
    "### State\n",
    "\n",
    "- state space : $\\Omega = \\left\\{ 1,2,3, \\dots, \\bar{\\omega} \\right\\}$ where $\\bar{\\omega}$ is the upper boud for the state.\n",
    "- industry structure : $\\omega = \\left( \\omega_1, \\omega_2, \\dots, \\omega_n \\right)$ for each $\\omega_i \\in \\Omega$\n",
    "\n",
    "Then the set of possible industry structures is \n",
    "\n",
    "$$S = \\left\\{ \\left( \\omega_1, \\omega_2, \\dots, \\omega_n \\right): \\omega_i \\in \\Omega, n < \\bar{n} \\right\\}$$\n",
    "\n",
    "where $\\bar{n}$ is the maximum number of incumbents. And denote the states other than firm $i$ as $\\omega_{-i}$\n",
    "\n",
    "We can reduce the state space by using the symmetry and anonymity assumptions, which are descrived in detial in Doraszelski and Pakes (2007) and in the ch6 of Doraszelski and Satterthwaite (2010).\n",
    " In the end we have the the below compact state space.\n",
    " \n",
    "$$S^{o} = \\left\\{ (\\omega_i, s): \\omega_i \\in \\Omega, s = (s_1, s_2, \\dots, s_{\\bar{\\omega}}), s_{\\omega}\\in Z^{+}, \\sum_{\\omega \\in \\Omega} s_{\\omega} \\leq \\bar{n} \\right\\}$$\n",
    " \n",
    "where $s_{\\omega}$ denotes the number of incumbents whose state is $\\omega$.\n",
    "\n",
    "In other words, the state space of this model can be characterized by a particular firm's state and the vector of the number of firms for each state in the symmetry and anonymity assumptions.\n",
    "\n",
    "And the two assumptions make every functions in this model not specific to each firm.\n",
    "\n",
    "### Product market competition\n",
    "\n",
    "$\\omega_i$ represents the quality of the products of firm $i$ in the market. And the mean utility of the product $i$ is given by $g(\\omega_i)$. Then the utility for consumer $k$ from buying product $i$ is as follows.\n",
    "\n",
    "$$u_{i,k} = g(\\omega_i) - p_i + \\epsilon_{i,k}$$\n",
    "\n",
    "where $p_i$ is the price the firm can choose optimally and $\\epsilon_{i,k}$ is taste difference among consumers. And if $(\\epsilon_{0,k}, \\dots, \\epsilon_{n,k})$  identically independently follow extreme value distribution across products and individuals, the demand for each product ($q_i$)can be expressed as below.\n",
    "\n",
    "$$q_i(p_1, \\dots, p_n:\\omega) = M\\frac{\\exp(g(\\omega_i)-p_i)}{1 + \\sum_j \\exp(g(\\omega_j) - p_j)}$$\n",
    "\n",
    "where $M$ is the number of consumers.\n",
    "\n",
    "Then the optimal price for firm $i$ solves the below maximization problem.\n",
    "\n",
    "$$\\max_{p_i} q_i(p_1, \\dots, p_n:\\omega) (p_i -c)$$\n",
    "\n",
    "So we can solve the systme constructed by the first order condition of each firm. Denote the optimal price by $p_i^{*}$.\n",
    "\n",
    "Thus the profits for firm $i$ in the current state can be written as\n",
    "\n",
    "$$\\pi(\\omega_i, \\omega_{-i}) = q_i(p_1^{*}(\\omega), \\dots, p_n^{*}(\\omega) : \\omega) (p_i^{*}(\\omega) - c)$$\n",
    "\n",
    "### Investment and state transition\n",
    "\n",
    "Denote the next period state by $\\omega_i^{'}$, the realization of investment by $\\nu_i$, and the industry wide shock by $\\eta$, then the transition of state can be descrived as follows.\n",
    "\n",
    "$$\\omega_i^{'} = \\omega_i + \\nu_i - \\eta$$\n",
    "\n",
    "In this model we restrict $\\nu_i \\in \\left\\{ 0,1\\right\\}$, whose the probability is\n",
    "\n",
    "$$Pr(\\nu | x_i) = \n",
    "\\begin{cases}\n",
    "\\frac{\\alpha x_i}{1+\\alpha x_i}\\ \\text{if}\\ \\nu = 1 \\\\[10pt]\n",
    "\\frac{1}{1+\\alpha x_i}\\ \\text{if}\\ \\nu = 0\n",
    "\\end{cases}$$\n",
    "\n",
    "And $\\eta \\in \\left\\{ 0,1\\right\\}$, where $\\eta = 1$ with the probability $\\delta$.\n",
    "\n",
    "In short, the investment increase the probability of moving to the improved state while it does not always increase the state.\n",
    "\n",
    "The potential entrants who enter the market experience $\\omega_i^{'} = \\omega^e + \\nu_i - \\eta$, where $\\omega^e$ is the initial state for the entrants defined exogenously."
   ]
  },
  {
   "cell_type": "markdown",
   "metadata": {},
   "source": [
    "### Incumbent's problem\n",
    "\n",
    "At the beginning of each period, when incumbents draw random scrap values, firm $i$ has a value function which satisfies the below Bellman equation, where $\\beta$ is the discount factor.\n",
    "\n",
    "$$\n",
    "V(\\omega_i, \\omega_{-i}, \\phi) = \\pi(\\omega_i, \\omega_{-i}) + \\max \\left\\{ \\phi, \\max_{x_i} \\beta E\\left[ V(\\omega_i^{'}, \\omega_{-i}^{'}, \\phi^{'})\\ |\\ \\omega_i, \\omega_{-i}, x_i\\right] -x_i\\right\\}\n",
    "$$\n",
    "\n",
    "Note that the expectation operator is over the probability distribution of possible next period values. \n",
    "\n",
    "Now we define the function $W(\\nu | \\omega_i, \\omega_{-i})$ as the expected value of the firm conditional on the outcome of its investment. This means\n",
    "\n",
    "$$W(\\nu\\ |\\ \\omega_i, \\omega_{-i}) \\equiv \\sum_{\\omega_{-i}^{'}, \\eta} \\int_{\\phi} V(\\omega_i + \\nu - \\eta, \\omega_{-i}^{'}, \\phi^{'}) \\ \\mathrm{d}F_{\\phi}(\\phi^{'})\\ q(\\omega_{-i}^{'} \\ |\\ \\omega_i, \\omega_{-i}, \\eta)\\ p(\\eta)$$\n",
    "\n",
    "By using this we can transform the expectation term in the Bellman equation as follows\n",
    "\n",
    "$$E\\left[ V(\\omega_i^{'}, \\omega_{-i}^{'}, \\phi^{'})\\ |\\ \\omega_i, \\omega_{-i}, x_i\\right]  = \\sum_{\\nu} W(\\nu\\ |\\ \\omega_i, \\omega_{-i}) p(\\nu\\ |\\ x_i)$$\n",
    "\n",
    "Then the Bellman equation is written as below\n",
    "\n",
    "$$V(\\omega_i, \\omega_{-i}, \\phi) = \\pi(\\omega_i, \\omega_{-i}) + \\max \\left\\{ \\phi, \\max_{x_i} \\beta \\sum_{\\nu} W(\\nu\\ |\\ \\omega_i, \\omega_{-i}) p(\\nu\\ |\\ x_i) - x_i\\right\\}$$\n",
    "\n",
    "Now if we know about $W$, we determine the optimal investment by Kuhn - Tucker condition for the above,\n",
    "\n",
    "$$x_i\\left( \\beta \\sum_{\\nu} W(\\nu\\ |\\ \\omega_i, \\omega_{-i}) \\frac{\\partial p(\\nu\\ |\\ x_i)}{\\partial x_i} - 1  \\right) = 0$$\n",
    "\n",
    "In this setting we solve the above as follows\n",
    "\n",
    "$$x(\\omega_i, \\omega_{-i}) = \\max \\left\\{ 0, \\frac{-1 + \\sqrt{\\beta\\alpha (W(1 | \\omega_i, \\omega_{-i}) - W(0 | \\omega_i, \\omega_{-i}))}}{\\alpha} \\right\\}$$\n",
    "\n",
    "Given this optimal investment policy, we next consdier the problem of whether to exit or remain. Because the firms who face this problem must experience the current competition in the market and get the benefit $\\pi(\\omega_i. \\omega_{-i})$, the decision of exiting does not involve the payoff and instead consider only about the scrap value and the continuation value.\n",
    "\n",
    "Let $\\chi(\\omega_i, \\omega_{-i}, \\phi)$ be the indicator function which takes $1$ only if the firm continues. Now this satisfies the below\n",
    "\n",
    "$$\\newcommand{\\argmax}{\\mathop{\\rm arg~max}\\limits}\n",
    "\\chi(\\omega_i, \\omega_{-i}, \\phi) = \\argmax_{\\chi \\in \\left\\{0,1\\right\\}}\\ (1 - \\chi) \\phi + \\chi \\left( \\beta \\sum_{\\nu} W(\\nu\\ |\\ \\omega_i, \\omega_{-i}) p(\\nu\\ |\\ x(\\omega_i, \\omega_{-i})) - x(\\omega_i, \\omega_{-i})\\right)$$\n",
    "\n",
    "We know the distribution of $\\phi$, then the probability of $\\chi(\\omega_i, \\omega_{-i}, \\phi) = 1$, i.e. the probability that the optimal policy is remainig, denoted as $r(\\omega_i, \\omega_{-i})$, can be obtained as below.\n",
    "\n",
    "$$r(\\omega_i, \\omega_{-i}) = F_{\\phi} \\left( \\beta \\sum_{\\nu} W(\\nu\\ |\\ \\omega_i, \\omega_{-i}) p(\\nu\\ |\\ x(\\omega_i, \\omega_{-i})) - x(\\omega_i, \\omega_{-i}) \\right)$$\n",
    "\n",
    "\n",
    "### Entrant's problem\n",
    "\n",
    "A potential entrants who chooses enter pays a setup cost drawn from $F_{\\psi}$ and becomes an incumbent in the next period. While the preparing period, it can invest $x_i^e$. The problem for entrants is analogous to the one of incumbents, so we omit the detail and show the important equations.\n",
    "\n",
    "Note that the competitors' state for the potential entrants is $\\omega$.\n",
    "\n",
    "The value function is as follows, where the function $W^e$ is defined analogously in the incumbent's problem.\n",
    "\n",
    "$$V^e(\\omega, \\psi) = \\max \\left\\{ 0, max_{x_i^e} -\\psi - x_i^e + \\beta \\sum_{\\nu} W^e(\\nu\\ |\\ \\omega) p(\\nu\\ |\\ x_i^e)\\right\\}$$\n",
    "\n",
    "Let $x_i^e(\\omega)$ be the optimal initial investment policy calculated by the same logic. Given this, we can construct the optimal entry policy as follows.\n",
    "\n",
    "$$\\chi^e(\\omega, \\psi) = \\argmax_{\\chi \\in \\left\\{ 0,1\\right\\}} \\chi \\left( -\\psi - x^e(\\omega) + \\beta \\sum_{\\nu} W^e(\\nu\\ |\\ \\omega) p(\\nu\\ |\\ x^e(\\omega)) \\right)$$\n",
    "\n",
    "Then the entry probability is \n",
    "\n",
    "$$r^e(\\omega) = F_{\\psi}\\left( - x^e(\\omega) + \\beta \\sum_{\\nu} W^e(\\nu\\ |\\ \\omega) p(\\nu\\ |\\ x^e(\\omega))\\right)$$"
   ]
  },
  {
   "cell_type": "markdown",
   "metadata": {},
   "source": [
    "## What we compute\n",
    "\n",
    "First we have to define the action in this model, where firms decide both exit or entry and the investment. \n",
    "\n",
    "Let $u(\\omega, \\phi) = (\\chi(\\omega, \\phi), x(\\omega))$ be the policy function for the incumbents and the same is defined for the potential entrants analogously.\n",
    "\n",
    "The equilibrium we try to compute is a **symmetric Markov Perfect Equilirium (MPE)**, which involves the pair of value function and policy function s.t.\n",
    "\n",
    "- Given the value function, the policy function satisfy the optimal conditions for both entry / exit policy and investment policy.\n",
    "- Given the policy function, the value function satisfy the Bellman equation.\n",
    "\n",
    "The above condition is also applied to the entrants side.\n",
    "\n",
    "Thus we compute the value function and the policy function which satisfy the above condition by using the following algorithms."
   ]
  },
  {
   "cell_type": "markdown",
   "metadata": {},
   "source": [
    "## PM94's exact algorithm\n",
    "\n",
    "This algorithm uses the expected value function, which is the function of the state whose value is the expectation of the value function over the distribution of the scrap value for the incumbents and setup cost for the potential entrants.\n",
    "\n",
    "Thus the expected value function is defined\n",
    "\n",
    "$$V(\\omega_i, \\omega_{-i}) \\equiv \\int_{\\phi} V(\\omega_i, \\omega_{-i}, \\phi)\\ \\mathrm{d}F_{\\phi}(\\phi)$$\n",
    "\n",
    "Then we can write the Bellman equation, by using the optimal policies, in the below form\n",
    "\n",
    "$$V(\\omega_i, \\omega_{-i}) = \\pi(\\omega_i, \\omega_{-i}) + (1-r(\\omega_i, \\omega_{-i}))\\ \\phi(\\omega, \\omega_{-i}) + r(\\omega_i, \\omega_{-i}) \\left\\{ \\beta \\sum_{\\nu} W(\\nu\\ |\\ \\omega_i, \\omega_{-i})\\ p(\\nu\\ |\\ x(\\omega_i, \\omega_{i}))- x(\\omega_i, \\omega_{-i}) \\right\\}$$\n",
    "\n",
    "And now the policy is the pair of the probability of entry and the investment amount, $(r(\\omega_i, \\omega_{-i}, x(\\omega_i, \\omega_{-i})))$. \n",
    "\n",
    "Note that $\\phi(\\omega_i, \\omega_{-i})$ is the expectation of the scrap value conditional on exiting in state $(\\omega_i, \\omega_{-i})$. Thus\n",
    "\n",
    "$$\\phi(\\omega_i, \\omega_{-i}) = E_{\\phi}\\left[ \\phi\\ |\\ \\chi(\\omega_i, \\omega_{-i}, \\phi)=0 \\right] = \\int_{\\phi > F_{\\phi}^{-1}(r(\\omega_i, \\omega_{-i}))} \\ \\phi \\ \\mathrm{d}F_{\\phi}(\\phi)$$\n",
    "\n",
    "PM94 proceeds as follows.\n",
    "\n",
    "1. Set the initial values for policy function and value function, i.e. fulfill the value of $r^0, x^o, V^0$ for each state.\n",
    "2. In $l$ iteration, implement the below sequence $(0\\leq l)$ for every state.\n",
    "    1. Calculate $W^{l+1}$ from $r^l$, $x^{l}$, $V^l$ and the entrants counterparts of them.\n",
    "    2. Improve $x^l$ by using $W^{l+1}$ and denote $x^{l+1}$.\n",
    "    3. Improve $r^l$ and $V^l$ by using $W^{l+1}$ and $x^{l+1}$ and denote $r^{l+1}$ and $V^{l+1}$ respectively.\n",
    "    4. The above three computation is applied to the entrants' problem analogously.\n",
    "    5. Check how much value function improves\n",
    "3. If the improvement satisfies the pre determined criterion, we end the iteration. If not, repeat the sequence of 2.\n",
    "\n",
    "Note that this algorithm improves the functions for every state in one iteration. So this is called a \"synchronous\" algorithm.\n",
    "\n",
    "We explain each part of iteration in the following.\n",
    "\n",
    "### Part A\n",
    "\n",
    "Recall that the definition of $W$. In order to calculate this we have to know the transition probability of competitors states, i.e. $q(\\omega_{-i}^{'}\\ |\\ \\omega_i, \\omega_{-i}, \\eta)$. This is constructed by the state transition probabilities of each incumbent firm and the entry probability of $\\epsilon^{'}$ firms, which are calculated as follows respecively.\n",
    "\n",
    "$$p^{l}(\\omega_i^{'}\\ |\\ \\omega_i, \\omega_{-i}, \\eta) = \n",
    "\\begin{cases}\n",
    "1 - r^l(\\omega_i, \\omega_{-i})\\ &\\text{if}\\ \\omega_i^{'} = \\phi \\\\[10pt]\n",
    "r^l(\\omega_i, \\omega_{-i}) P(\\nu\\ |\\ x^l(\\omega_i, \\omega_{-i}))\\ &\\text{if}\\ \\omega_i^{'} = \\omega_i + 1 - \\eta\\\\[10pt]\n",
    "r^l(\\omega_i, \\omega_{-i}) (1-P(\\nu\\ |\\ x^l(\\omega_i, \\omega_{-i})))\\ &\\text{if}\\ \\omega_i^{'} = \\omega_i - \\eta\n",
    "\\end{cases}$$\n",
    "\n",
    "where state $\\phi$ means the firm is a potential entrant.\n",
    "\n",
    "And \n",
    "\n",
    "$$r^{e,l}(\\epsilon^{'}, \\omega) = \\dbinom{\\epsilon}{\\epsilon^{'}} \\left[ r^{e,l}(\\omega)\\right]^{\\epsilon^{'}} \\ \\left[ 1-r^{e,l}(\\omega)\\right]^{\\epsilon- \\epsilon^{'}}$$\n",
    "\n",
    "Then the competitors' state transition probability is written in below form.\n",
    "\n",
    "$$q^{l+1}(\\omega_{-i}^{'}\\ |\\ \\omega_i, \\omega_{-i}, \\eta) = \\Pi_{j\\neq i}\\ p^l(\\omega_j^{'}\\ |\\ \\omega_j, \\omega_{-j}, \\eta) \\ \\Pi_{j=1}^{\\epsilon^{'}}P(\\nu_j\\ |\\ x^{e,l}(\\omega))\\ r^{e,l}(\\epsilon^{'}, \\omega)$$\n",
    "\n",
    "Now by the difinition of $W$, we get the below improvement equation.\n",
    "\n",
    "$$W^{l+1}(\\nu\\ |\\ \\omega_i, \\omega_{-i}) = \\sum_{\\omega_{-i}^{'}\\ ,\\ \\eta} V^l(\\omega_i + \\nu - \\eta, \\omega_{-i}^{'})\\ q^{l+1}(\\omega_{-i}^{'}\\ |\\ \\omega_i, \\omega_{-i}, \\eta)\\ p(\\eta)$$"
   ]
  },
  {
   "cell_type": "markdown",
   "metadata": {
    "collapsed": true
   },
   "source": [
    "### Part B\n",
    "\n",
    "By Kuhn - Tucker condition, we have obtained the optimal investment policy as descrived above and therefore we use it as an improvement equation.\n",
    "\n",
    "$$x^{l+1}(\\omega_i, \\omega_{-i}) = \\max \\left\\{ 0, \\frac{-1 + \\sqrt{\\beta\\alpha (W^{l+1}(1 | \\omega_i, \\omega_{-i}) - W^{l+1}(0 | \\omega_i, \\omega_{-i}))}}{\\alpha} \\right\\}$$\n",
    "\n",
    "### Part C\n",
    "\n",
    "The remain probability has been already expressed by the distribution function of scrap values. We get the improvement through this equation.\n",
    "\n",
    "$$r^{l+1}(\\omega_i, \\omega_{-i}) = F_{\\phi} \\left( \\beta \\sum_{\\nu} W^{l+1}(\\nu\\ |\\ \\omega_i, \\omega_{-i}) p(\\nu\\ |\\ x^{l+1}(\\omega_i, \\omega_{-i})) - x^{l+1}(\\omega_i, \\omega_{-i}) \\right)$$\n",
    "\n",
    "Because the expected value function satisfies the above equation, so we can update the expected value function as follows.\n",
    "\n",
    "$$V^{l+1}(\\omega_i, \\omega_{-i}) = \\pi(\\omega_i, \\omega_{-i}) + (1-r^{l+1}(\\omega_i, \\omega_{-i}))\\ \\phi(\\omega, \\omega_{-i}) + r^{l+1}(\\omega_i, \\omega_{-i}) \\left\\{ \\beta \\sum_{\\nu} W^{l+1}(\\nu\\ |\\ \\omega_i, \\omega_{-i})\\ p(\\nu\\ |\\ x^{l+1}(\\omega_i, \\omega_{i}))- x^{l+1}(\\omega_i, \\omega_{-i}) \\right\\}$$\n",
    "\n",
    "### Part D\n",
    "\n",
    "Part A ~ C can be applied to the entrants problem without difficulty and we get the improvement about the functions for the entrants as above.\n",
    "\n",
    "### Part E\n",
    "\n",
    "Stopping time problem always matters. You see this issue in detail in Pakes and McGuire (1994) or Doraszelski and Judd (2012).\n",
    "\n",
    "Here we use the below norm in the criterion\n",
    "\n",
    "$$\\left\\| \\frac{V^l - V^{l-1}}{1 + |V^l|} \\right\\| = \\max_{\\omega \\in S^o}\\ \\left|\\frac{V^l(\\omega) - V^{l-1}(\\omega)}{1 + |V^l(\\omega)|}\\right|$$\n",
    "\n",
    "And we set the predetermined stopping criterion in the norm where we stop the algorithm if the norm between the current value function and the next one is smaller than it.\n",
    "\n",
    "\n",
    "### Code\n",
    "We finish explaing the algorithm, so go on to see the Julia code for this.\n",
    "\n",
    "Most of the default parameter value is the same as in Pakes and McGuire (1994), and the distribution of scrap value and setup cost is set to exponential distribution with parameters $\\lambda_1, \\lambda_2$ for each.\n",
    "\n",
    "The conditional expectation with parameter valaue $\\lambda$ used in this model is calculated as below.\n",
    "\n",
    "$$E_{\\phi}\\left[ \\phi\\ |\\ \\chi(\\omega_i, \\omega_{-i}, \\phi)=0 \\right] = \\int_{\\phi > F_{\\phi}^{-1}(r(\\omega_i, \\omega_{-i}))} \\ \\phi \\ \\mathrm{d}F_{\\phi}(\\phi) =\\frac{1}{\\lambda\\ \\exp(-\\lambda \\ F_{\\phi}^{-1}(r(\\omega_i, \\omega_{-i})))} = \\frac{1}{\\lambda\\ (1-r(\\omega_i, \\omega_{-i}))}$$\n",
    "\n",
    "And the quality specific mean utility function is spcified as follows.\n",
    "\n",
    "$$g(\\omega_i) = \\begin{cases}\n",
    "3\\omega_i - 4 \\ &\\text{if}\\ \\omega_i \\leq 5 \\\\[10pt]\n",
    "12 + {\\rm log}\\ (2 - \\exp(16 - 3\\omega_i))\\ &\\text{if}\\ \\omega_i > 5\n",
    "\\end{cases}$$"
   ]
  },
  {
   "cell_type": "code",
   "execution_count": 29,
   "metadata": {
    "collapsed": false
   },
   "outputs": [
    {
     "data": {
      "text/plain": [
       "mean_utility (generic function with 1 method)"
      ]
     },
     "execution_count": 29,
     "metadata": {},
     "output_type": "execute_result"
    }
   ],
   "source": [
    "# First we caculate the payoff function in the static market\n",
    "function mean_utility(state)\n",
    "    if state <= 5\n",
    "        return 3*state - 4\n",
    "    else\n",
    "        return 12 + log(2-exp(16-3*state))\n",
    "    end\n",
    "end"
   ]
  },
  {
   "cell_type": "code",
   "execution_count": 56,
   "metadata": {
    "collapsed": false
   },
   "outputs": [],
   "source": [
    "# PM94 algorithm\n",
    "# Default parameter values are as below\n",
    "# N = 4, M = 5, c = 5, alpha = 3, delta = 0.7, beta = 0.925, max_state = 18, omega_e = 1, lambda_1 = 3, lambda_2 = 2\n",
    "# Initial guess about the value function for the incumbent is set to pi/(1-beta), where the pi denote the payoff specific to the state.\n",
    "# Other initial guesses are set to 0 for all state.\n",
    "\n",
    "using Combinatorics\n",
    "using Iterators\n",
    "using NLsolve\n",
    "\n",
    "max_state = 18 # state = 1 means the firm is a potential entrant\n",
    "N = 4\n",
    "c = 5\n",
    "mean_utils = [mean_utility(state) for state in 2:max_state]\n",
    "\n",
    "# State space\n",
    "num_dist = binomial(N - 1 + max_state -1, N-1)\n",
    "num_states = max_state *num_dist\n",
    "distributions = collect(with_replacement_combinations(collect(1:max_state), N-1))\n",
    "state_space = zeros((num_states, N))\n",
    "for i in 1:max_state\n",
    "    state_space[(i-1)*num_dist+1:i*num_dist, 1] = zeros(num_dist) + i\n",
    "    \n",
    "    for j in 1:num_dist\n",
    "        state_space[(i-1)*num_dist+j, 2:N] = distributions[j]\n",
    "    end\n",
    "end"
   ]
  },
  {
   "cell_type": "code",
   "execution_count": 57,
   "metadata": {
    "collapsed": false
   },
   "outputs": [
    {
     "name": "stderr",
     "output_type": "stream",
     "text": [
      "WARNING: Method definition quality_ladder_price(Any) in module Main at In[54]:2 overwritten at In[57]:2.\n"
     ]
    },
    {
     "data": {
      "text/plain": [
       "quality_ladder_price (generic function with 1 method)"
      ]
     },
     "execution_count": 57,
     "metadata": {},
     "output_type": "execute_result"
    }
   ],
   "source": [
    "function quality_ladder_price(state)\n",
    "    n = sum(state_space[state,:] .!= 1)\n",
    "    \n",
    "    if n == 0\n",
    "        return 0\n",
    "    end\n",
    "    \n",
    "    if n != 0\n",
    "        incumbents_state = state_space[state,:][state_space[state,:] .!= 1]\n",
    "\n",
    "        function f!(x, fvec)\n",
    "            for i in 1:n\n",
    "                fvec[i] = x[i] - (1 + sum([exp(mean_utils[k-1] - x[j]) for (j, k) in enumerate(incumbents_state)]))/(1 + sum([exp(mean_utils[k-1] - x[j]) for (j, k) in enumerate(incumbents_state)]) - exp(mean_utils[incumbents_state[i]-1] - x[i])) - c\n",
    "            end\n",
    "        end\n",
    "\n",
    "        return nlsolve(f!, ones(n))\n",
    "    end\n",
    "end"
   ]
  },
  {
   "cell_type": "code",
   "execution_count": 58,
   "metadata": {
    "collapsed": false
   },
   "outputs": [
    {
     "ename": "LoadError",
     "evalue": "ArgumentError: invalid index: 10.0",
     "output_type": "error",
     "traceback": [
      "ArgumentError: invalid index: 10.0",
      "",
      " in getindex(::Array{Real,1}, ::Float64) at ./array.jl:386",
      " in (::##33#36{Array{Float64,1}})(::Tuple{Int64,Float64}) at ./<missing>:0",
      " in collect(::Base.Generator{Enumerate{Array{Float64,1}},##33#36{Array{Float64,1}}}) at ./array.jl:307",
      " in (::#f!#35{Int64})(::Array{Float64,1}, ::Array{Float64,1}) at ./In[57]:13",
      " in (::NLsolve.#fg!#2{#f!#35{Int64}})(::Array{Float64,1}, ::Array{Float64,1}, ::Array{Float64,2}) at /Users/susu/.julia/v0.5/NLsolve/src/differentiable_functions.jl:21",
      " in trust_region_(::NLsolve.DifferentiableMultivariateFunction, ::Array{Float64,1}, ::Float64, ::Float64, ::Int64, ::Bool, ::Bool, ::Bool, ::Float64, ::Bool) at /Users/susu/.julia/v0.5/NLsolve/src/trust_region.jl:87",
      " in #nlsolve#17(::Symbol, ::Float64, ::Float64, ::Int64, ::Bool, ::Bool, ::Bool, ::Function, ::Float64, ::Bool, ::NLsolve.#nlsolve, ::NLsolve.DifferentiableMultivariateFunction, ::Array{Float64,1}) at /Users/susu/.julia/v0.5/NLsolve/src/nlsolve_func_defs.jl:24",
      " in (::NLsolve.#kw##nlsolve)(::Array{Any,1}, ::NLsolve.#nlsolve, ::NLsolve.DifferentiableMultivariateFunction, ::Array{Float64,1}) at ./<missing>:0",
      " in #nlsolve#19(::Symbol, ::Float64, ::Float64, ::Int64, ::Bool, ::Bool, ::Bool, ::Function, ::Float64, ::Bool, ::Bool, ::NLsolve.#nlsolve, ::#f!#35{Int64}, ::Array{Float64,1}) at /Users/susu/.julia/v0.5/NLsolve/src/nlsolve_func_defs.jl:70",
      " in nlsolve(::Function, ::Array{Float64,1}) at /Users/susu/.julia/v0.5/NLsolve/src/nlsolve_func_defs.jl:65",
      " in quality_ladder_price(::Int64) at ./In[57]:17"
     ]
    }
   ],
   "source": [
    "quality_ladder_price(12322)"
   ]
  },
  {
   "cell_type": "code",
   "execution_count": 41,
   "metadata": {
    "collapsed": false
   },
   "outputs": [
    {
     "ename": "LoadError",
     "evalue": "BoundsError: attempt to access 20520×4 Array{Float64,2} at index [22222,Colon()]",
     "output_type": "error",
     "traceback": [
      "BoundsError: attempt to access 20520×4 Array{Float64,2} at index [22222,Colon()]",
      "",
      " in throw_boundserror(::Array{Float64,2}, ::Tuple{Int64,Colon}) at ./abstractarray.jl:355",
      " in checkbounds at ./abstractarray.jl:284 [inlined]",
      " in _getindex at ./multidimensional.jl:270 [inlined]",
      " in getindex(::Array{Float64,2}, ::Int64, ::Colon) at ./abstractarray.jl:752"
     ]
    }
   ],
   "source": [
    "state_space[22222,:][state_space[22222,:] .!= 1]"
   ]
  },
  {
   "cell_type": "code",
   "execution_count": 49,
   "metadata": {
    "collapsed": false
   },
   "outputs": [
    {
     "data": {
      "text/plain": [
       "4-element Array{Float64,1}:\n",
       " 11.0\n",
       "  9.0\n",
       "  9.0\n",
       " 10.0"
      ]
     },
     "execution_count": 49,
     "metadata": {},
     "output_type": "execute_result"
    }
   ],
   "source": [
    "state_space[12322,:][state_space[12322,:] .!= 1]"
   ]
  },
  {
   "cell_type": "code",
   "execution_count": null,
   "metadata": {
    "collapsed": true
   },
   "outputs": [],
   "source": []
  }
 ],
 "metadata": {
  "kernelspec": {
   "display_name": "Julia 0.5.0",
   "language": "julia",
   "name": "julia-0.5"
  },
  "language_info": {
   "file_extension": ".jl",
   "mimetype": "application/julia",
   "name": "julia",
   "version": "0.5.0"
  }
 },
 "nbformat": 4,
 "nbformat_minor": 0
}
