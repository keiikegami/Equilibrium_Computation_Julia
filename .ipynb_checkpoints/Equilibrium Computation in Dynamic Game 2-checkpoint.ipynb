{
 "cells": [
  {
   "cell_type": "markdown",
   "metadata": {},
   "source": [
    "The second one is Pakes and Mcguire (2001), which we call PM01. This is a kind of stochastic approximation method, which means the exact solutions for the model are not of interest. This method does not consider all states and instead focus on the reccurent set of points when calculating the optimal policy functions, which decreases the computational demand."
   ]
  },
  {
   "cell_type": "code",
   "execution_count": null,
   "metadata": {
    "collapsed": true
   },
   "outputs": [],
   "source": []
  }
 ],
 "metadata": {
  "kernelspec": {
   "display_name": "Julia 0.5.0",
   "language": "julia",
   "name": "julia-0.5"
  },
  "language_info": {
   "file_extension": ".jl",
   "mimetype": "application/julia",
   "name": "julia",
   "version": "0.5.0"
  }
 },
 "nbformat": 4,
 "nbformat_minor": 0
}
