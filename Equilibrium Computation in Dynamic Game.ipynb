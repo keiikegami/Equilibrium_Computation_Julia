{
 "cells": [
  {
   "cell_type": "markdown",
   "metadata": {},
   "source": [
    "# Equilibrium Computation in Dynamic Game\n",
    "\n",
    "Many methods have been suggested for this problem, and I focus on the most popular three algorithms from them.\n",
    "\n",
    "Note that we only consider the computation methods for dynamic game in discrete time model.\n",
    "\n",
    "The first is Pakes and McGuire (1994) algorithm, which we call PM94. This is the algortihm for exact computing equilibrium in the dynamic oligopoly model, which is developed in Ericson and Pakes (1995), which we call EP95, and many researchers use this in both empirical and theoretical works.\n",
    "\n",
    "But PM94 lacks consideration for multiple equilibria, which is inevitable in most of dynamic game models, and it is  computationally burdensome when the state space of the model has a lot of atates. Furthermore the convergence of this algorithm is not guaranteed. \n",
    "\n",
    "Then more sophisticated methos have been developed in order to these problems.\n",
    "\n",
    "The second one is Pakes and Mcguire (2001), which we call PM01. This is a kind of stochastic approximation method, which means the exact solutions for the model are not of interest. This method does not consider all states and instead focus on the reccurent set of points when calculating the optimal policy functions, which decreases the computational demand.\n",
    "\n",
    "The last one is Besanko (2010), which we call B10. This algortihm tackles with the multiplicity of equilibria in computation, which is not solved in the above two methods. B10 uses homotopy to solve this problem and is so different from the other methods.\n",
    "\n",
    "In the following, first we descrive the dynamic oliigopoly model of EP95 in order to clarify the problem the alogorithms solve. And then we explain the above three methods in order with the codes for these."
   ]
  },
  {
   "cell_type": "markdown",
   "metadata": {},
   "source": [
    "## EP95's model"
   ]
  },
  {
   "cell_type": "markdown",
   "metadata": {},
   "source": [
    "## PM94's exact algorithm"
   ]
  },
  {
   "cell_type": "markdown",
   "metadata": {},
   "source": [
    "## PM01's approximate algorithm"
   ]
  },
  {
   "cell_type": "markdown",
   "metadata": {},
   "source": [
    "## B10's homotopy algorithm"
   ]
  },
  {
   "cell_type": "code",
   "execution_count": null,
   "metadata": {
    "collapsed": true
   },
   "outputs": [],
   "source": []
  }
 ],
 "metadata": {
  "kernelspec": {
   "display_name": "Julia 0.5.0",
   "language": "julia",
   "name": "julia-0.5"
  },
  "language_info": {
   "file_extension": ".jl",
   "mimetype": "application/julia",
   "name": "julia",
   "version": "0.5.0"
  }
 },
 "nbformat": 4,
 "nbformat_minor": 0
}
