{
 "cells": [
  {
   "cell_type": "markdown",
   "metadata": {},
   "source": [
    "# Equilibrium Computation in Dynamic Game\n",
    "\n",
    "Many methods have been suggested for this problem, and I focus on the most popular three algorithms from them.\n",
    "\n",
    "Note that we only consider the computation methods for dynamic game in discrete time model.\n",
    "\n",
    "The first is Pakes and McGuire (1994) algorithm, which we call PM94. This is the algortihm for exact computing equilibrium in the dynamic oligopoly model, which is developed in Ericson and Pakes (1995), which we call EP95, and many researchers use this in both empirical and theoretical works.\n",
    "\n",
    "But PM94 lacks consideration for multiple equilibria, which is inevitable in most of dynamic game models, and it is  computationally burdensome when the state space of the model has a lot of atates. Furthermore the convergence of this algorithm is not guaranteed. \n",
    "\n",
    "Then more sophisticated methos have been developed in order to these problems.\n",
    "\n",
    "The second one is Pakes and Mcguire (2001), which we call PM01. This is a kind of stochastic approximation method, which means the exact solutions for the model are not of interest. This method does not consider all states and instead focus on the reccurent set of points when calculating the optimal policy functions, which decreases the computational demand.\n",
    "\n",
    "The last one is Besanko (2010), which we call B10. This algortihm tackles with the multiplicity of equilibria in computation, which is not solved in the above two methods. B10 uses homotopy to solve this problem and is so different from the other methods.\n",
    "\n",
    "In the following, first we descrive the dynamic oliigopoly model of EP95 in order to clarify the problem the alogorithms solve. And then we explain the above three methods in order with the codes for these."
   ]
  },
  {
   "cell_type": "markdown",
   "metadata": {},
   "source": [
    "## EP95's model"
   ]
  },
  {
   "cell_type": "markdown",
   "metadata": {},
   "source": [
    "In this section I explain the model in consideretion. \n",
    "\n",
    "EP95 modeled the dynamic oligopoly, in which there are incumbent firms and potential entrant firms for a market. In the begging of each period the incumbent firms decide whetherto exit or not by comparing the random scrap value with the continuation value of its own, and the potential entrant firms choose if they entry the market by considering the random setup costs and the continuation value. After their decisions the incumbents compete in the static market of differentiated products. And then they carry out investment for the sake of improving the future state. In the last their decisions about entry/exit are implemented before the next period.\n",
    "\n",
    "Note that the model we descrive here is a little different from the original one because these offer the condition for equilibrium existence and decrease the computational burden of the algorithms. See Doraszelski and Satterthwaite (2010) and Doraszelski and Pakes (2007) about this point.\n",
    "\n",
    "In the following we set up the notations of the model for each part.\n",
    "\n",
    "### Incumbent firms\n",
    "\n",
    "Denote each incumbent firm by $i$. And the number of incumbents is set to $n$.\n",
    "- investment : $x_i$\n",
    "- scrap value : $\\phi_i \\sim \\text{i.i.d.}\\ F_{\\phi}$ where $F_{\\phi}$ is the distribution function. \n",
    "- remain probability : $r_i$\n",
    "\n",
    "We assume that the scrap value is private information, then the decisions about exit of the other firms are stochastic from the perspective of each firm. Thus we can set the probability of remaining of each firm. This is true for the setup costs of the potential entrants.\n",
    "\n",
    "### Potential entrants\n",
    "\n",
    "Denote each potential entrant by $i$.\n",
    "- number of entrants : $\\epsilon$\n",
    "- initial investment : $x_i^e$\n",
    "- setup cost : $\\psi_i \\sim \\text{i.i.d.}\\ F_{\\psi}$ where $F_{\\psi}$ is the distribution function. \n",
    "- entry probability : $r_i^e$\n",
    "\n",
    "### State\n",
    "\n",
    "- state space : $\\Omega = \\left\\{ 1,2,3, \\dots, \\bar{\\omega} \\right\\}$ where $\\bar{\\omega}$ is the upper boud for the state.\n",
    "- industry structure : $\\omega = \\left( \\omega_1, \\omega_2, \\dots, \\omega_n \\right)$ for each $\\omega_i \\in \\Omega$\n",
    "\n",
    "Then the set of possible industry structures is \n",
    "\n",
    "$$S = \\left\\{ \\left( \\omega_1, \\omega_2, \\dots, \\omega_n \\right): \\omega_i \\in \\Omega, n < \\bar{n} \\right\\}$$\n",
    "\n",
    "where $\\bar{n}$ is the maximum number of incumbents. And denote the states other than firm $i$ as $\\omega_{-i}$\n",
    "\n",
    "We can narrow the state space by using the symmetry and anonymity assumptions, which are descrived in detial in Doraszelski and Pakes (2007).\n",
    " In the end we have the the below compact state space.\n",
    " \n",
    "$$S^{o} = \\left\\{ (\\omega_i, s): \\omega_i \\in \\Omega, s = (s_1, s_2, \\dots, s_{\\bar{\\omega}}), s_{\\omega}\\in Z^{+}, \\sum_{\\omega \\in \\Omega} s_{\\omega} \\leq \\bar{n} \\right\\}$$\n",
    " \n",
    "where $s_{\\omega}$ denotes the number of incumbents whose state is $\\omega$.\n",
    "\n",
    "In other words, the state space of this model can be characterized by a particular firm's state and the vector of the number of firms for each state in the symmetry and anonymity assumptions.\n",
    "\n",
    "### Product market competition\n",
    "\n",
    "$\\omega_i$ represents the quality of the products of firm $i$ in the market. And the mean utility of the product $i$ is given by $g(\\omega_i)$. Then the utility for consumer $k$ from buying product $i$ is as follows.\n",
    "\n",
    "$$u_{i,k} = g(\\omega_i) - p_i + \\epsilon_{i,k}$$\n",
    "\n",
    "where $p_i$ is the price the firm can choose optimally and $\\epsilon_{i,k}$ is taste difference among consumers. And if $(\\epsilon_{0,k}, \\dots, \\epsilon_{n,k})$  identically independently follow extreme value distribution across products and individuals, the demand for each product ($q_i$)can be expressed as below.\n",
    "\n",
    "$$q_i(p_1, \\dots, p_n:\\omega) = M\\frac{\\exp(g(\\omega_i)-p_i)}{1 + \\sum_j \\exp(g(\\omega_j) - p_j)}$$\n",
    "\n",
    "where $M$ is the number of consumers.\n",
    "\n",
    "Then the optimal price for firm $i$ solves the below maximization problem.\n",
    "\n",
    "$$\\max_{p_i} q_i(p_1, \\dots, p_n:\\omega) (p_i -c)$$\n",
    "\n",
    "So we can solve this by using the first order condition. Denote the optimal price by $p_i^{*}$.\n",
    "\n",
    "Thus the profits for firm $i$ in the current state can be written as\n",
    "\n",
    "$$\\pi(\\omega_i, \\omega_{-i}) = q_i(p_1^{*}(\\omega), \\dots, p_n^{*}(\\omega) : \\omega) (p_i^{*}(\\omega) - c)$$\n",
    "\n",
    "### Investment and state transition\n",
    "\n",
    "Denote the next period state by $\\omega_i^{'}$, the realization of investment by $\\nu_i$, and the industry wide shock by $\\eta$, then the transition of state can be descrived as follows.\n",
    "\n",
    "$$\\omega_i^{'} = \\omega_i + \\nu_i - \\eta$$\n",
    "\n",
    "In this model we restrict $\\nu_i \\in \\left\\{ 0,1\\right\\}$, whose the probability is\n",
    "\n",
    "$$Pr(\\nu | x_i) = \n",
    "\\begin{cases}\n",
    "\\frac{\\alpha x_i}{1+\\alpha x_i}\\ \\text{if}\\ \\nu = 1 \\\\[10pt]\n",
    "\\frac{1}{1+\\alpha x_i}\\ \\text{if}\\ \\nu = 0\n",
    "\\end{cases}$$\n",
    "\n",
    "And $\\eta \\in \\left\\{ 0,1\\right\\}$, where $\\eta = 1$ with the probability $\\delta$.\n",
    "\n",
    "In short, the investment increase the probability of moving to the improved state while it does not always increase the state."
   ]
  },
  {
   "cell_type": "markdown",
   "metadata": {},
   "source": [
    "## PM94's exact algorithm"
   ]
  },
  {
   "cell_type": "markdown",
   "metadata": {},
   "source": [
    "## PM01's approximate algorithm"
   ]
  },
  {
   "cell_type": "markdown",
   "metadata": {},
   "source": [
    "## B10's homotopy algorithm"
   ]
  },
  {
   "cell_type": "code",
   "execution_count": null,
   "metadata": {
    "collapsed": true
   },
   "outputs": [],
   "source": []
  }
 ],
 "metadata": {
  "kernelspec": {
   "display_name": "Julia 0.5.0",
   "language": "julia",
   "name": "julia-0.5"
  },
  "language_info": {
   "file_extension": ".jl",
   "mimetype": "application/julia",
   "name": "julia",
   "version": "0.5.0"
  }
 },
 "nbformat": 4,
 "nbformat_minor": 0
}
